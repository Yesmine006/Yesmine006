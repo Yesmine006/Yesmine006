{
  "nbformat": 4,
  "nbformat_minor": 0,
  "metadata": {
    "colab": {
      "provenance": [],
      "collapsed_sections": [],
      "authorship_tag": "ABX9TyOObjFkk9oxAg+jlv+B4V9E",
      "include_colab_link": true
    },
    "kernelspec": {
      "name": "python3",
      "display_name": "Python 3"
    },
    "language_info": {
      "name": "python"
    },
    "accelerator": "GPU"
  },
  "cells": [
    {
      "cell_type": "markdown",
      "metadata": {
        "id": "view-in-github",
        "colab_type": "text"
      },
      "source": [
        "<a href=\"https://colab.research.google.com/github/Yesmine006/Yesmine006/blob/main/PCA_method.ipynb\" target=\"_parent\"><img src=\"https://colab.research.google.com/assets/colab-badge.svg\" alt=\"Open In Colab\"/></a>"
      ]
    },
    {
      "cell_type": "markdown",
      "source": [
        "## **What is the MNIST dataset?**"
      ],
      "metadata": {
        "id": "dn6r4RrlV0d7"
      }
    },
    {
      "cell_type": "markdown",
      "source": [
        "MNIST set is a large collection of handwritten digits. It is a very popular dataset in the field of image processing. It is often used for benchmarking machine learning algorithms.\n",
        "\n",
        "MNIST is short for Modified National Institute of Standards and Technology database.\n",
        "\n",
        "MNIST contains a collection of 70,000, 28 x 28 images of handwritten digits from 0 to 9.\n",
        "\n",
        "The dataset is already divided into training and testing sets."
      ],
      "metadata": {
        "id": "pAMFhQHeVVYP"
      }
    },
    {
      "cell_type": "markdown",
      "source": [
        "## **Loading MNIST from Kerars**"
      ],
      "metadata": {
        "id": "TGaJMjHUWGfu"
      }
    },
    {
      "cell_type": "code",
      "execution_count": 1,
      "metadata": {
        "id": "GW64sZnPVBeX"
      },
      "outputs": [],
      "source": [
        "from keras.datasets import mnist"
      ]
    },
    {
      "cell_type": "code",
      "source": [
        "(train_X, train_y), (test_X, test_y) = mnist.load_data()"
      ],
      "metadata": {
        "colab": {
          "base_uri": "https://localhost:8080/"
        },
        "id": "6FuYrtrBWaV1",
        "outputId": "ff517fc2-c629-48b2-d7fc-2578773c7943"
      },
      "execution_count": 2,
      "outputs": [
        {
          "output_type": "stream",
          "name": "stdout",
          "text": [
            "Downloading data from https://storage.googleapis.com/tensorflow/tf-keras-datasets/mnist.npz\n",
            "11493376/11490434 [==============================] - 0s 0us/step\n",
            "11501568/11490434 [==============================] - 0s 0us/step\n"
          ]
        }
      ]
    },
    {
      "cell_type": "code",
      "source": [
        "print('X_train: ' + str(train_X.shape))\n",
        "print('Y_train: ' + str(train_y.shape))\n",
        "print('X_test:  '  + str(test_X.shape))\n",
        "print('Y_test:  '  + str(test_y.shape))"
      ],
      "metadata": {
        "colab": {
          "base_uri": "https://localhost:8080/"
        },
        "id": "Y_XF4KizXH8q",
        "outputId": "54092932-4a84-42a3-9ecc-615cfdbdc3c9"
      },
      "execution_count": 3,
      "outputs": [
        {
          "output_type": "stream",
          "name": "stdout",
          "text": [
            "X_train: (60000, 28, 28)\n",
            "Y_train: (60000,)\n",
            "X_test:  (10000, 28, 28)\n",
            "Y_test:  (10000,)\n"
          ]
        }
      ]
    },
    {
      "cell_type": "markdown",
      "source": [
        "We can see that there are 60k images in the training set and 10k images in the testing set.\n",
        "\n",
        "The dimension of our training vector is (60000, 28, 28), this is because there are 60,000 grayscale images with the dimension 28X28."
      ],
      "metadata": {
        "id": "yIXQohHIYCyr"
      }
    },
    {
      "cell_type": "markdown",
      "source": [
        "## **Plotting the MNIST dataset using matplotlib**"
      ],
      "metadata": {
        "id": "5C8Wo_JGYN7Z"
      }
    },
    {
      "cell_type": "code",
      "source": [
        "from matplotlib import pyplot\n",
        "for i in range(9):  \n",
        "  pyplot.subplot(330 + 1 + i)\n",
        "  pyplot.imshow(train_X[i], cmap=pyplot.get_cmap('gray'))\n",
        "  pyplot.show()\n",
        "print(train_y[0])"
      ],
      "metadata": {
        "colab": {
          "base_uri": "https://localhost:8080/",
          "height": 916
        },
        "id": "W0eMJp1TXTY8",
        "outputId": "bfb21937-0efd-4676-ca90-5ee9e0dee8af"
      },
      "execution_count": 4,
      "outputs": [
        {
          "output_type": "display_data",
          "data": {
            "text/plain": [
              "<Figure size 432x288 with 1 Axes>"
            ],
            "image/png": "[encoded data removed]"
          },
          "metadata": {
            "needs_background": "light"
          }
        },
        {
          "output_type": "display_data",
          "data": {
            "text/plain": [
              "<Figure size 432x288 with 1 Axes>"
            ],
            "image/png": "[encoded data removed]"
          },
          "metadata": {
            "needs_background": "light"
          }
        },
        {
          "output_type": "display_data",
          "data": {
            "text/plain": [
              "<Figure size 432x288 with 1 Axes>"
            ],
            "image/png": "[encoded data removed]"
          },
          "metadata": {
            "needs_background": "light"
          }
        },
        {
          "output_type": "display_data",
          "data": {
            "text/plain": [
              "<Figure size 432x288 with 1 Axes>"
            ],
            "image/png": "[encoded data removed]"
          },
          "metadata": {
            "needs_background": "light"
          }
        },
        {
          "output_type": "display_data",
          "data": {
            "text/plain": [
              "<Figure size 432x288 with 1 Axes>"
            ],
            "image/png": "[encoded data removed]"
          },
          "metadata": {
            "needs_background": "light"
          }
        },
        {
          "output_type": "display_data",
          "data": {
            "text/plain": [
              "<Figure size 432x288 with 1 Axes>"
            ],
            "image/png": "[encoded data removed]"
          },
          "metadata": {
            "needs_background": "light"
          }
        },
        {
          "output_type": "display_data",
          "data": {
            "text/plain": [
              "<Figure size 432x288 with 1 Axes>"
            ],
            "image/png": "[encoded data removed]"
          },
          "metadata": {
            "needs_background": "light"
          }
        },
        {
          "output_type": "display_data",
          "data": {
            "text/plain": [
              "<Figure size 432x288 with 1 Axes>"
            ],
            "image/png": "[encoded data removed]"
          },
          "metadata": {
            "needs_background": "light"
          }
        },
        {
          "output_type": "display_data",
          "data": {
            "text/plain": [
              "<Figure size 432x288 with 1 Axes>"
            ],
            "image/png": "[encoded data removed]"
          },
          "metadata": {
            "needs_background": "light"
          }
        },
        {
          "output_type": "stream",
          "name": "stdout",
          "text": [
            "5\n"
          ]
        }
      ]
    },
    {
      "cell_type": "markdown",
      "source": [
        "Now we will make a dataset of the number 5"
      ],
      "metadata": {
        "id": "p0wnj2iBnCIi"
      }
    },
    {
      "cell_type": "code",
      "source": [
        "import numpy as np\n",
        "j=0\n",
        "s=0\n",
        "for i in range(60000):\n",
        "  if train_y[i]==5:\n",
        "    s=s+1\n",
        "threeDataset= np.zeros((s, 28,28))\n",
        "for i in range(60000):\n",
        "  if train_y[i]==5:\n",
        "    threeDataset[j]=train_X[i]\n",
        "    j=j+1"
      ],
      "metadata": {
        "id": "wazmyL1HYIDw"
      },
      "execution_count": 5,
      "outputs": []
    },
    {
      "cell_type": "code",
      "source": [
        "for i in range(9):  \n",
        "  pyplot.subplot(330 + 1 + i)\n",
        "  pyplot.imshow(threeDataset[i], cmap=pyplot.get_cmap('gray'))\n",
        "  pyplot.show()"
      ],
      "metadata": {
        "colab": {
          "base_uri": "https://localhost:8080/",
          "height": 899
        },
        "id": "vM0OROHoaLEp",
        "outputId": "034805c7-2b8b-4242-acc2-867c387bd1f0"
      },
      "execution_count": 6,
      "outputs": [
        {
          "output_type": "display_data",
          "data": {
            "text/plain": [
              "<Figure size 432x288 with 1 Axes>"
            ],
            "image/png": "[encoded data removed]"
          },
          "metadata": {
            "needs_background": "light"
          }
        },
        {
          "output_type": "display_data",
          "data": {
            "text/plain": [
              "<Figure size 432x288 with 1 Axes>"
            ],
            "image/png": "[encoded data removed]"
          },
          "metadata": {
            "needs_background": "light"
          }
        },
        {
          "output_type": "display_data",
          "data": {
            "text/plain": [
              "<Figure size 432x288 with 1 Axes>"
            ],
            "image/png": "[encoded data removed]"
          },
          "metadata": {
            "needs_background": "light"
          }
        },
        {
          "output_type": "display_data",
          "data": {
            "text/plain": [
              "<Figure size 432x288 with 1 Axes>"
            ],
            "image/png": "[encoded data removed]"
          },
          "metadata": {
            "needs_background": "light"
          }
        },
        {
          "output_type": "display_data",
          "data": {
            "text/plain": [
              "<Figure size 432x288 with 1 Axes>"
            ],
            "image/png": "[encoded data removed]"
          },
          "metadata": {
            "needs_background": "light"
          }
        },
        {
          "output_type": "display_data",
          "data": {
            "text/plain": [
              "<Figure size 432x288 with 1 Axes>"
            ],
            "image/png": "[encoded data removed]"
          },
          "metadata": {
            "needs_background": "light"
          }
        },
        {
          "output_type": "display_data",
          "data": {
            "text/plain": [
              "<Figure size 432x288 with 1 Axes>"
            ],
            "image/png": "[encoded data removed]"
          },
          "metadata": {
            "needs_background": "light"
          }
        },
        {
          "output_type": "display_data",
          "data": {
            "text/plain": [
              "<Figure size 432x288 with 1 Axes>"
            ],
            "image/png": "[encoded data removed]"
          },
          "metadata": {
            "needs_background": "light"
          }
        },
        {
          "output_type": "display_data",
          "data": {
            "text/plain": [
              "<Figure size 432x288 with 1 Axes>"
            ],
            "image/png": "[encoded data removed]"
          },
          "metadata": {
            "needs_background": "light"
          }
        }
      ]
    },
    {
      "cell_type": "markdown",
      "source": [
        "1. Organize data into an m x n matrix X\n",
        "• m: number of measurement types (feature vector size)\n",
        "• n: number of samples"
      ],
      "metadata": {
        "id": "1eqxPvywxNVK"
      }
    },
    {
      "cell_type": "code",
      "source": [
        "threeDataset.shape"
      ],
      "metadata": {
        "colab": {
          "base_uri": "https://localhost:8080/"
        },
        "id": "wWGWOeaktkQm",
        "outputId": "22daa7f0-3c11-468e-82e6-c3a882230313"
      },
      "execution_count": 7,
      "outputs": [
        {
          "output_type": "execute_result",
          "data": {
            "text/plain": [
              "(5421, 28, 28)"
            ]
          },
          "metadata": {},
          "execution_count": 7
        }
      ]
    },
    {
      "cell_type": "code",
      "source": [
        "# reshape dataset to have a single channel\n",
        "threeDataset = threeDataset.reshape((threeDataset.shape[0], 784))\n",
        "#testX = testX.reshape((testX.shape[0], 28, 28, 1))"
      ],
      "metadata": {
        "id": "iCegoZuJa0Hq"
      },
      "execution_count": 8,
      "outputs": []
    },
    {
      "cell_type": "code",
      "source": [
        "threeDataset.shape"
      ],
      "metadata": {
        "colab": {
          "base_uri": "https://localhost:8080/"
        },
        "id": "FC6SlKi4toNd",
        "outputId": "aa048589-6755-483b-b476-7801d12394a4"
      },
      "execution_count": 9,
      "outputs": [
        {
          "output_type": "execute_result",
          "data": {
            "text/plain": [
              "(5421, 784)"
            ]
          },
          "metadata": {},
          "execution_count": 9
        }
      ]
    },
    {
      "cell_type": "code",
      "source": [
        "matrix_X=threeDataset.transpose()"
      ],
      "metadata": {
        "id": "lgt-xYW6t36w"
      },
      "execution_count": 10,
      "outputs": []
    },
    {
      "cell_type": "code",
      "source": [
        "matrix_X.shape"
      ],
      "metadata": {
        "colab": {
          "base_uri": "https://localhost:8080/"
        },
        "id": "H9YyVDm7uWUo",
        "outputId": "e54b1c8e-6ac1-4ade-bcbb-6dbb9883ba36"
      },
      "execution_count": 11,
      "outputs": [
        {
          "output_type": "execute_result",
          "data": {
            "text/plain": [
              "(784, 5421)"
            ]
          },
          "metadata": {},
          "execution_count": 11
        }
      ]
    },
    {
      "cell_type": "markdown",
      "source": [
        "2. Compute data (sample) mean vector\n"
      ],
      "metadata": {
        "id": "AOpRNDC2xB4e"
      }
    },
    {
      "cell_type": "code",
      "source": [
        "x_mean= np.zeros(784)\n",
        "for i in range(5421):\n",
        "  x_mean+=matrix_X[:,i]\n",
        "for i in range(784):\n",
        "  x_mean[i]=x_mean[i]/5421"
      ],
      "metadata": {
        "id": "a4nW8Ibtuez8"
      },
      "execution_count": 104,
      "outputs": []
    },
    {
      "cell_type": "markdown",
      "source": [
        "3. Subtract off mean vector from dataset\n"
      ],
      "metadata": {
        "id": "Nu-W2-rrxFiL"
      }
    },
    {
      "cell_type": "code",
      "source": [
        "matrix_X[:,i].shape"
      ],
      "metadata": {
        "colab": {
          "base_uri": "https://localhost:8080/"
        },
        "id": "YQy2cygBv1-J",
        "outputId": "8bfe73de-d4f5-4c52-ced8-9814115efe5d"
      },
      "execution_count": 105,
      "outputs": [
        {
          "output_type": "execute_result",
          "data": {
            "text/plain": [
              "(784,)"
            ]
          },
          "metadata": {},
          "execution_count": 105
        }
      ]
    },
    {
      "cell_type": "code",
      "source": [
        "x_mean.shape"
      ],
      "metadata": {
        "colab": {
          "base_uri": "https://localhost:8080/"
        },
        "id": "crSLOeRjw0Tf",
        "outputId": "2e7ef281-456e-4c8f-88f9-430b3cf019f3"
      },
      "execution_count": 106,
      "outputs": [
        {
          "output_type": "execute_result",
          "data": {
            "text/plain": [
              "(784,)"
            ]
          },
          "metadata": {},
          "execution_count": 106
        }
      ]
    },
    {
      "cell_type": "code",
      "source": [
        "for i in range(5421):\n",
        "  matrix_X[:,i]=matrix_X[:,i]-x_mean\n"
      ],
      "metadata": {
        "id": "m6rFMRGsv3X6"
      },
      "execution_count": 107,
      "outputs": []
    },
    {
      "cell_type": "code",
      "source": [
        "matrix_X"
      ],
      "metadata": {
        "colab": {
          "base_uri": "https://localhost:8080/"
        },
        "id": "oHuTd9V55yje",
        "outputId": "d39962de-745a-46b4-8b7e-46276eef2b35"
      },
      "execution_count": 108,
      "outputs": [
        {
          "output_type": "execute_result",
          "data": {
            "text/plain": [
              "array([[0., 0., 0., ..., 0., 0., 0.],\n",
              "       [0., 0., 0., ..., 0., 0., 0.],\n",
              "       [0., 0., 0., ..., 0., 0., 0.],\n",
              "       ...,\n",
              "       [0., 0., 0., ..., 0., 0., 0.],\n",
              "       [0., 0., 0., ..., 0., 0., 0.],\n",
              "       [0., 0., 0., ..., 0., 0., 0.]])"
            ]
          },
          "metadata": {},
          "execution_count": 108
        }
      ]
    },
    {
      "cell_type": "code",
      "source": [
        "from matplotlib import pyplot as plt\n",
        "plt.imshow(matrix_X)\n",
        "plt.show()"
      ],
      "metadata": {
        "colab": {
          "base_uri": "https://localhost:8080/",
          "height": 100
        },
        "id": "cigPY11x6MZO",
        "outputId": "11b71d71-44dd-400e-fd4e-7e9aaefec04f"
      },
      "execution_count": 109,
      "outputs": [
        {
          "output_type": "display_data",
          "data": {
            "text/plain": [
              "<Figure size 432x288 with 1 Axes>"
            ],
            "image/png": "[encoded data removed]"
          },
          "metadata": {
            "needs_background": "light"
          }
        }
      ]
    },
    {
      "cell_type": "markdown",
      "source": [
        "4. Calculate sample covariance matrix CX\n"
      ],
      "metadata": {
        "id": "xUdWiJvPxRzZ"
      }
    },
    {
      "cell_type": "code",
      "source": [
        "Cx=np.cov(matrix_X, bias=True)\n"
      ],
      "metadata": {
        "id": "xW1s-M2OwF5R"
      },
      "execution_count": 110,
      "outputs": []
    },
    {
      "cell_type": "code",
      "source": [
        "Cx;"
      ],
      "metadata": {
        "id": "DI_O7GKcyKJy"
      },
      "execution_count": 111,
      "outputs": []
    },
    {
      "cell_type": "markdown",
      "source": [
        "5. Calculate eigenvectors of matrix CX à obtain matrix P\n"
      ],
      "metadata": {
        "id": "ylyqvnTQ6h8H"
      }
    },
    {
      "cell_type": "code",
      "source": [
        "from numpy.linalg import eig\n",
        "eigenvalues, eigenvectors = eig(Cx)"
      ],
      "metadata": {
        "id": "leaY9Y-b6mtJ"
      },
      "execution_count": 112,
      "outputs": []
    },
    {
      "cell_type": "markdown",
      "source": [
        "The normalized (unit “length”) eigenvectors, such that the column v[:,i] is the eigenvector corresponding to the eigenvalue w[i]."
      ],
      "metadata": {
        "id": "vHmM9pmt8_je"
      }
    },
    {
      "cell_type": "code",
      "source": [
        "eigvec1=eigenvectors[:,0]"
      ],
      "metadata": {
        "id": "lS1ZgiTx7pD_"
      },
      "execution_count": 113,
      "outputs": []
    },
    {
      "cell_type": "code",
      "source": [
        "eigvec1=eigvec1.reshape(28,28)"
      ],
      "metadata": {
        "id": "h89NXVdS9H0W"
      },
      "execution_count": 114,
      "outputs": []
    },
    {
      "cell_type": "code",
      "source": [
        "eigvec1=eigvec1.real"
      ],
      "metadata": {
        "id": "R9DMPwfa9bkK"
      },
      "execution_count": 115,
      "outputs": []
    },
    {
      "cell_type": "code",
      "source": [
        "#pyplot.subplot(330 + 1 + i)\n",
        "pyplot.imshow(eigvec1, cmap=pyplot.get_cmap('gray'))\n",
        "pyplot.show()"
      ],
      "metadata": {
        "colab": {
          "base_uri": "https://localhost:8080/",
          "height": 265
        },
        "id": "SIKKXqrw9Pid",
        "outputId": "ccf758ed-ddac-47d6-adb2-23d7658d81e1"
      },
      "execution_count": 116,
      "outputs": [
        {
          "output_type": "display_data",
          "data": {
            "text/plain": [
              "<Figure size 432x288 with 1 Axes>"
            ],
            "image/png": "[encoded data removed]"
          },
          "metadata": {
            "needs_background": "light"
          }
        }
      ]
    },
    {
      "cell_type": "code",
      "source": [
        "for i in range(9):  \n",
        "  eigvec1=eigenvectors[:,i]\n",
        "  eigvec1=eigvec1.reshape(28,28)\n",
        "  eigvec1=eigvec1.real\n",
        "  pyplot.subplot(330 + 1 + i)\n",
        "  pyplot.imshow(eigvec1, cmap=pyplot.get_cmap('gray'))\n",
        "  pyplot.show()"
      ],
      "metadata": {
        "colab": {
          "base_uri": "https://localhost:8080/",
          "height": 899
        },
        "id": "s2GKZPOixm_M",
        "outputId": "f13f765d-cf94-4e4a-81a7-929e47141652"
      },
      "execution_count": 117,
      "outputs": [
        {
          "output_type": "display_data",
          "data": {
            "text/plain": [
              "<Figure size 432x288 with 1 Axes>"
            ],
            "image/png": "[encoded data removed]"
          },
          "metadata": {
            "needs_background": "light"
          }
        },
        {
          "output_type": "display_data",
          "data": {
            "text/plain": [
              "<Figure size 432x288 with 1 Axes>"
            ],
            "image/png": "[encoded data removed]"
          },
          "metadata": {
            "needs_background": "light"
          }
        },
        {
          "output_type": "display_data",
          "data": {
            "text/plain": [
              "<Figure size 432x288 with 1 Axes>"
            ],
            "image/png": "[encoded data removed]"
          },
          "metadata": {
            "needs_background": "light"
          }
        },
        {
          "output_type": "display_data",
          "data": {
            "text/plain": [
              "<Figure size 432x288 with 1 Axes>"
            ],
            "image/png": "[encoded data removed]"
          },
          "metadata": {
            "needs_background": "light"
          }
        },
        {
          "output_type": "display_data",
          "data": {
            "text/plain": [
              "<Figure size 432x288 with 1 Axes>"
            ],
            "image/png": "[encoded data removed]"
          },
          "metadata": {
            "needs_background": "light"
          }
        },
        {
          "output_type": "display_data",
          "data": {
            "text/plain": [
              "<Figure size 432x288 with 1 Axes>"
            ],
            "image/png": "[encoded data removed]"
          },
          "metadata": {
            "needs_background": "light"
          }
        },
        {
          "output_type": "display_data",
          "data": {
            "text/plain": [
              "<Figure size 432x288 with 1 Axes>"
            ],
            "image/png": "[encoded data removed]"
          },
          "metadata": {
            "needs_background": "light"
          }
        },
        {
          "output_type": "display_data",
          "data": {
            "text/plain": [
              "<Figure size 432x288 with 1 Axes>"
            ],
            "image/png": "[encoded data removed]"
          },
          "metadata": {
            "needs_background": "light"
          }
        },
        {
          "output_type": "display_data",
          "data": {
            "text/plain": [
              "<Figure size 432x288 with 1 Axes>"
            ],
            "image/png": "[encoded data removed]"
          },
          "metadata": {
            "needs_background": "light"
          }
        }
      ]
    },
    {
      "cell_type": "markdown",
      "source": [
        "6. Apply change of base\n",
        "End - Y is the transformed data matrix"
      ],
      "metadata": {
        "id": "BjpElm6z6lnV"
      }
    },
    {
      "cell_type": "code",
      "source": [
        "matrix_X.shape"
      ],
      "metadata": {
        "colab": {
          "base_uri": "https://localhost:8080/"
        },
        "id": "2l_cHUMi_vJT",
        "outputId": "e83b372f-cbd0-4510-e1db-7e3ce263e1d9"
      },
      "execution_count": 118,
      "outputs": [
        {
          "output_type": "execute_result",
          "data": {
            "text/plain": [
              "(784, 5421)"
            ]
          },
          "metadata": {},
          "execution_count": 118
        }
      ]
    },
    {
      "cell_type": "code",
      "source": [
        "#P=eigenvectors.transpose()\n"
      ],
      "metadata": {
        "id": "PX5GzPb_x19P"
      },
      "execution_count": 120,
      "outputs": []
    },
    {
      "cell_type": "code",
      "source": [
        "P=eigenvectors.real"
      ],
      "metadata": {
        "id": "cTB14MuSBu7U"
      },
      "execution_count": 126,
      "outputs": []
    },
    {
      "cell_type": "code",
      "source": [
        "P=P.transpose()"
      ],
      "metadata": {
        "id": "xwUOEi7_BpsD"
      },
      "execution_count": 127,
      "outputs": []
    },
    {
      "cell_type": "code",
      "source": [
        "Y=np.matmul( P, matrix_X )\n",
        "Cy=np.cov(Y)\n"
      ],
      "metadata": {
        "id": "IiaBAqm2-nxr"
      },
      "execution_count": 143,
      "outputs": []
    },
    {
      "cell_type": "code",
      "source": [
        "eigenvalues.min()"
      ],
      "metadata": {
        "colab": {
          "base_uri": "https://localhost:8080/"
        },
        "id": "G-Xm9f-IEYpn",
        "outputId": "e44be817-f7f1-4607-b60d-a2d51378a4a9"
      },
      "execution_count": 137,
      "outputs": [
        {
          "output_type": "execute_result",
          "data": {
            "text/plain": [
              "(-1.6539999388805961e-12+0j)"
            ]
          },
          "metadata": {},
          "execution_count": 137
        }
      ]
    },
    {
      "cell_type": "code",
      "source": [
        "Cy[:3,:3]"
      ],
      "metadata": {
        "colab": {
          "base_uri": "https://localhost:8080/"
        },
        "id": "vHVyiYf1-wED",
        "outputId": "3b764cca-e3de-472b-8b1f-3c1cbcd089c6"
      },
      "execution_count": 133,
      "outputs": [
        {
          "output_type": "execute_result",
          "data": {
            "text/plain": [
              "array([[ 5.17504595e+05, -1.84460292e-10, -2.43999641e-10],\n",
              "       [-1.84460292e-10,  2.94519755e+05, -4.54653381e-11],\n",
              "       [-2.43999641e-10, -4.54653381e-11,  2.14277183e+05]])"
            ]
          },
          "metadata": {},
          "execution_count": 133
        }
      ]
    },
    {
      "cell_type": "code",
      "source": [
        "p=[]\n",
        "for i in range(784):\n",
        "  for j in range(784):\n",
        "    if i!=j:\n",
        "      p.append(Cy[i,j])"
      ],
      "metadata": {
        "id": "Bss8ODKQEIHv"
      },
      "execution_count": 144,
      "outputs": []
    },
    {
      "cell_type": "code",
      "source": [
        "max(p)"
      ],
      "metadata": {
        "colab": {
          "base_uri": "https://localhost:8080/"
        },
        "id": "ZIZkpd2mIBn7",
        "outputId": "9ddb8f74-e702-4ef9-f7b4-6eb678ae35f7"
      },
      "execution_count": 147,
      "outputs": [
        {
          "output_type": "execute_result",
          "data": {
            "text/plain": [
              "1.9858395626551103e-09"
            ]
          },
          "metadata": {},
          "execution_count": 147
        }
      ]
    },
    {
      "cell_type": "code",
      "source": [
        "Cy"
      ],
      "metadata": {
        "colab": {
          "base_uri": "https://localhost:8080/"
        },
        "id": "UO7tNeQPHdwU",
        "outputId": "216b6ad3-b8e2-452f-a148-50fe14cc927b"
      },
      "execution_count": 135,
      "outputs": [
        {
          "output_type": "execute_result",
          "data": {
            "text/plain": [
              "array([[517504.59547299,      0.        ,      0.        , ...,\n",
              "             0.        ,      0.        ,      0.        ],\n",
              "       [     0.        , 294519.75505954,      0.        , ...,\n",
              "             0.        ,      0.        ,      0.        ],\n",
              "       [     0.        ,      0.        , 214277.18266189, ...,\n",
              "             0.        ,      0.        ,      0.        ],\n",
              "       ...,\n",
              "       [     0.        ,      0.        ,      0.        , ...,\n",
              "             0.        ,      0.        ,      0.        ],\n",
              "       [     0.        ,      0.        ,      0.        , ...,\n",
              "             0.        ,      0.        ,      0.        ],\n",
              "       [     0.        ,      0.        ,      0.        , ...,\n",
              "             0.        ,      0.        ,      0.        ]])"
            ]
          },
          "metadata": {},
          "execution_count": 135
        }
      ]
    },
    {
      "cell_type": "code",
      "source": [],
      "metadata": {
        "id": "GX75D0XUHemH"
      },
      "execution_count": null,
      "outputs": []
    }
  ]
}